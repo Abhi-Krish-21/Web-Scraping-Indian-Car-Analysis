{
 "cells": [
  {
   "cell_type": "code",
   "execution_count": 23,
   "metadata": {},
   "outputs": [],
   "source": [
    "from selenium import webdriver\n",
    "from selenium.webdriver.chrome.service import Service\n",
    "from selenium.webdriver.common.by import By\n",
    "from selenium.webdriver.support.ui import WebDriverWait\n",
    "from selenium.webdriver.support import expected_conditions as EC"
   ]
  },
  {
   "cell_type": "code",
   "execution_count": 24,
   "metadata": {},
   "outputs": [],
   "source": [
    "url = \"https://www.cardekho.com/cars/\"+\"BYD\"\n",
    "driver = webdriver.Chrome()\n",
    "driver.get(url)"
   ]
  },
  {
   "cell_type": "code",
   "execution_count": 25,
   "metadata": {},
   "outputs": [],
   "source": [
    "WebDriverWait(driver, 10).until(EC.presence_of_element_located((By.TAG_NAME, \"body\")))\n",
    "cars = driver.find_elements(By.CSS_SELECTOR, \"ul.modelList > li\")\n",
    "car_data = []\n"
   ]
  },
  {
   "cell_type": "code",
   "execution_count": 26,
   "metadata": {},
   "outputs": [
    {
     "name": "stdout",
     "output_type": "stream",
     "text": [
      "Model: BYD Seal, Price: Rs.41 - 53 Lakh* (Price in New Delhi)\n",
      "Model: BYD Atto 3, Price: Rs.33.99 - 34.49 Lakh* (Price in New Delhi)\n",
      "Model: BYD E6, Price: Rs.29.15 Lakh* (Price in New Delhi)\n"
     ]
    }
   ],
   "source": [
    "for car in cars:\n",
    "    try:\n",
    "        # Extract car model name\n",
    "        model_name = car.find_element(By.CSS_SELECTOR, \"h3 a\").text\n",
    "\n",
    "        # Extract car price\n",
    "        price = car.find_element(By.CSS_SELECTOR, \"div.price\").text\n",
    "\n",
    "        # Add the extracted data to the list\n",
    "        car_data.append({\n",
    "            \"model\": model_name,\n",
    "            \"price\": price\n",
    "        })\n",
    "    except Exception as e:\n",
    "        print(f\"An error occurred while extracting data for a car: {e}\")\n",
    "\n",
    "for car in car_data:\n",
    "    print(f\"Model: {car['model']}, Price: {car['price']}\")"
   ]
  },
  {
   "cell_type": "code",
   "execution_count": 27,
   "metadata": {},
   "outputs": [],
   "source": [
    "import pandas as pd"
   ]
  },
  {
   "cell_type": "code",
   "execution_count": 28,
   "metadata": {},
   "outputs": [],
   "source": [
    "df = pd.DataFrame(car_data)\n",
    "csv_file = \"aston_martin_cars.csv\"\n",
    "df.to_csv(csv_file, mode='a', index=False, header=not pd.io.common.file_exists(csv_file))\n"
   ]
  },
  {
   "cell_type": "code",
   "execution_count": 29,
   "metadata": {},
   "outputs": [],
   "source": [
    "#driver.quit()"
   ]
  },
  {
   "cell_type": "code",
   "execution_count": null,
   "metadata": {},
   "outputs": [],
   "source": []
  }
 ],
 "metadata": {
  "kernelspec": {
   "display_name": "Python 3",
   "language": "python",
   "name": "python3"
  },
  "language_info": {
   "codemirror_mode": {
    "name": "ipython",
    "version": 3
   },
   "file_extension": ".py",
   "mimetype": "text/x-python",
   "name": "python",
   "nbconvert_exporter": "python",
   "pygments_lexer": "ipython3",
   "version": "3.10.8"
  }
 },
 "nbformat": 4,
 "nbformat_minor": 2
}
